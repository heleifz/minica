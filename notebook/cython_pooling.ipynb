{
 "cells": [
  {
   "cell_type": "code",
   "execution_count": 1,
   "metadata": {
    "collapsed": true
   },
   "outputs": [],
   "source": [
    "%load_ext Cython\n",
    "import numpy as np\n",
    "import scipy.ndimage\n",
    "import scipy.signal"
   ]
  },
  {
   "cell_type": "code",
   "execution_count": 10,
   "metadata": {
    "collapsed": true
   },
   "outputs": [],
   "source": [
    "%%cython\n",
    "\n",
    "cpdef int max_pooling_batch(double [:,:,:,:] src, double [:,:,:,:] dst, int [:,:,:,:] max_ind, \n",
    "                            int win_h, int win_w, int stride_h, int stride_w):\n",
    "    cdef:\n",
    "        int num = src.shape[0]\n",
    "        int ch = src.shape[1]\n",
    "        int h_src = src.shape[2]\n",
    "        int w_src = src.shape[3]\n",
    "        int h_dst = dst.shape[2]\n",
    "        int w_dst = dst.shape[3]\n",
    "        int i, j, k, l, m, n\n",
    "        int dst_ind = 0, src_ind = 0\n",
    "        double *src_ptr = &src[0][0][0][0]\n",
    "        double *dst_ptr = &dst[0][0][0][0]\n",
    "        int *ind_ptr = &max_ind[0][0][0][0]\n",
    "        double max_val\n",
    "        int current_max_ind\n",
    "        double tmp\n",
    "        \n",
    "    for i in range(num):\n",
    "        for j in range(ch):\n",
    "            for k in range(0, h_src, stride_h):\n",
    "                for l in range(0, w_src, stride_w):\n",
    "                    print k\n",
    "                    print l\n",
    "                    src_ind = i * ch * h_src * w_src + j * h_src * w_src + k * w_src + l\n",
    "                    max_val = -1e20\n",
    "                    for m in range(win_h):\n",
    "                        for n in range(win_w):\n",
    "                            tmp = src_ptr[src_ind + n]\n",
    "                            if tmp > max_val:\n",
    "                                max_val = tmp\n",
    "                                current_max_ind = src_ind + n\n",
    "                        src_ind += w_src\n",
    "                    dst_ptr[dst_ind] = max_val\n",
    "                    ind_ptr[dst_ind] = current_max_ind\n",
    "                    dst_ind += 1\n",
    "    return 0\n",
    "\n",
    "cpdef int backprop_for_max_pooling(double [:,:,:,:] src, double [:,:,:,:] dst, int [:,:,:,:] max_ind):\n",
    "    cdef:\n",
    "        int num = src.shape[0]\n",
    "        int ch = src.shape[1]\n",
    "        int h_src = src.shape[2]\n",
    "        int w_src = src.shape[3]\n",
    "        int h_dst = dst.shape[2]\n",
    "        int w_dst = dst.shape[3]\n",
    "        int i\n",
    "        double *src_ptr = &src[0][0][0][0]\n",
    "        double *dst_ptr = &dst[0][0][0][0]\n",
    "        int *ind_ptr = &max_ind[0][0][0][0]\n",
    "        int total_dst = num * ch * h_dst * w_dst\n",
    "    \n",
    "    for i in range(total_dst):\n",
    "        src_ptr[ind_ptr[i]] += dst_ptr[i]\n",
    "    \n",
    "# cpdef int get_mean_index(int src_h, int src_w, int win_h, int win_w, \n",
    "#                          int stride_h, int stride_w, int [:,:] mean_ind):\n",
    "#     return 0\n",
    "\n",
    "# cpdef int mean_pooling_batch(double [:,:,:,:] src, double [:,:,:,:] dst,\n",
    "#                              int win_h, int win_w, int stride_h, int stride_w):\n",
    "#     return 0\n",
    "\n",
    " "
   ]
  },
  {
   "cell_type": "code",
   "execution_count": 23,
   "metadata": {
    "collapsed": false
   },
   "outputs": [
    {
     "name": "stdout",
     "output_type": "stream",
     "text": [
      "0\n",
      "[[[[ 5.]]\n",
      "\n",
      "  [[ 9.]]]\n",
      "\n",
      "\n",
      " [[[ 9.]]\n",
      "\n",
      "  [[ 9.]]]]\n",
      "[[[[ 4]]\n",
      "\n",
      "  [[12]]]\n",
      "\n",
      "\n",
      " [[[12]]\n",
      "\n",
      "  [[12]]]]\n"
     ]
    }
   ],
   "source": [
    "a = np.array([[[[1, 2, 0, 0],\n",
    "              [5, 3, 0, 4],\n",
    "              [0, 0, 0, 7],\n",
    "              [9, 3, 0, 0]],\n",
    "              \n",
    "              [[9, 8, 0, 0],\n",
    "              [1, 4, 1, 1],\n",
    "              [6, 0, 4, 3],\n",
    "              [0, 8, 0, 0]]],\n",
    "             \n",
    "             [[[1, 2, 0, 0],\n",
    "              [5, 3, 0, 4],\n",
    "              [0, 0, 0, 7],\n",
    "              [9, 3, 0, 0]],\n",
    "              \n",
    "              [[9, 8, 0, 0],\n",
    "              [1, 4, 1, 1],\n",
    "              [6, 0, 4, 3],\n",
    "              [0, 8, 0, 0]]],\n",
    "             \n",
    "             \n",
    "             ], dtype=float)\n",
    "max_ind = np.zeros((2, 2, 1, 1), dtype='int32')\n",
    "result =  np.zeros((2, 2, 1, 1))\n",
    "print max_pooling_batch(a, result, max_ind, 3, 3, 2, 2)\n",
    "print result\n",
    "print max_ind\n",
    "\n",
    "# a = np.random.random((100, 3, 128, 128))\n",
    "# out = np.zeros((100, 3, 32, 32))\n",
    "# ind = np.zeros((100, 3, 32, 32), dtype='int32')\n",
    "# %timeit max_pooling_batch(a, out, ind, 4, 4, 4, 4)"
   ]
  },
  {
   "cell_type": "code",
   "execution_count": null,
   "metadata": {
    "collapsed": true
   },
   "outputs": [],
   "source": []
  }
 ],
 "metadata": {
  "kernelspec": {
   "display_name": "Python 2",
   "language": "python",
   "name": "python2"
  },
  "language_info": {
   "codemirror_mode": {
    "name": "ipython",
    "version": 2
   },
   "file_extension": ".py",
   "mimetype": "text/x-python",
   "name": "python",
   "nbconvert_exporter": "python",
   "pygments_lexer": "ipython2",
   "version": "2.7.10"
  }
 },
 "nbformat": 4,
 "nbformat_minor": 0
}
